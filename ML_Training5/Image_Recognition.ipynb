{
 "cells": [
  {
   "cell_type": "markdown",
   "metadata": {},
   "source": [
    "# HAND DIGIT RECOGNITION USING MNIST dataset"
   ]
  },
  {
   "cell_type": "markdown",
   "metadata": {},
   "source": [
    "## 1. Importing \n",
    "Importing the Packages.\n",
    "\n",
    "Downloading MNIST Dataset\n",
    "\n",
    "Partitioning the data\n",
    "\n",
    "### Brief Notes of the code below\n",
    "- Numpy is package that deals with matrics, verctor operation much better than conventional python arrays and list\n",
    "- Keras Models have MNIST handwritten images and its labels inbuilt and comes part of the package\n",
    "- Since we use simple ANN Sequential model which uses linear stack of layers.\n",
    "- We use a dense layer which represents a matrix vector multiplication. \n",
    "- np_utils is imported for one-hot encoding of data\n",
    "\n",
    "** Keras is an open source neural network library written in Python. It is capable of running on top of MXNet, Deeplearning4j, Tensorflow, CNTK or Theano. "
   ]
  },
  {
   "cell_type": "code",
   "execution_count": 3,
   "metadata": {},
   "outputs": [
    {
     "name": "stderr",
     "output_type": "stream",
     "text": [
      "C:\\ProgramData\\Anaconda3\\lib\\site-packages\\h5py\\__init__.py:36: FutureWarning: Conversion of the second argument of issubdtype from `float` to `np.floating` is deprecated. In future, it will be treated as `np.float64 == np.dtype(float).type`.\n",
      "  from ._conv import register_converters as _register_converters\n",
      "Using TensorFlow backend.\n"
     ]
    },
    {
     "name": "stdout",
     "output_type": "stream",
     "text": [
      "Downloading data from https://s3.amazonaws.com/img-datasets/mnist.npz\n",
      "11493376/11490434 [==============================] - 52s 5us/step\n"
     ]
    }
   ],
   "source": [
    "#Importing the necessary Libraries and modules to build our deep neural network\n",
    "import numpy\n",
    "from keras.datasets import mnist\n",
    "from keras.models import Sequential\n",
    "from keras.layers import Dense\n",
    "from keras.utils import np_utils\n",
    "(X_train, y_train), (X_test, y_test) = mnist.load_data() # Partition happens here by default"
   ]
  },
  {
   "cell_type": "markdown",
   "metadata": {},
   "source": [
    "### 2. Visualizing the data\n",
    "\n",
    "- In digital imaging, a pixel or picture element is a physical point in a raster image. For a grayscale images, the pixel value is a single number that represents the brightness of the pixel. It is stored as an 8-bit integer giving a range of possible values from 0 to 255. Typically zero is taken to be black, and 255 is taken to be white. Values in between make up the different shades of gray.\n",
    "\n",
    "<img src='MNIST-input.JPG'>"
   ]
  },
  {
   "cell_type": "code",
   "execution_count": 5,
   "metadata": {},
   "outputs": [
    {
     "data": {
      "image/png": "[encoded data removed]",
      "text/plain": [
       "<matplotlib.figure.Figure at 0x1a7c26e99b0>"
      ]
     },
     "metadata": {},
     "output_type": "display_data"
    }
   ],
   "source": [
    "import matplotlib.pyplot as plt\n",
    "%matplotlib inline\n",
    "\n",
    "plt.subplot(221)\n",
    "plt.imshow(X_train[0], cmap=plt.get_cmap('gray'))\n",
    "plt.subplot(222)\n",
    "plt.imshow(X_train[1], cmap=plt.get_cmap('gray'))\n",
    "plt.subplot(223)\n",
    "plt.imshow(X_train[2], cmap=plt.get_cmap('gray'))\n",
    "plt.subplot(224)\n",
    "plt.imshow(X_train[3], cmap=plt.get_cmap('gray'))\n",
    "# show the plot\n",
    "plt.show()"
   ]
  },
  {
   "cell_type": "markdown",
   "metadata": {},
   "source": [
    "## 2. PROCESS THE DATA"
   ]
  },
  {
   "cell_type": "code",
   "execution_count": 6,
   "metadata": {},
   "outputs": [],
   "source": [
    "# Setting the value the seed. You can set your seed to any value. A particular seed va\n",
    "seed = 7\n",
    "numpy.random.seed(seed)"
   ]
  },
  {
   "cell_type": "markdown",
   "metadata": {},
   "source": [
    "### Flattening the image\n",
    "- Create a 1D feature vector\n",
    "<img src='flatten1.jpg'>"
   ]
  },
  {
   "cell_type": "code",
   "execution_count": 7,
   "metadata": {},
   "outputs": [],
   "source": [
    "# flatten 28*28 images to a 784 vector for each image\n",
    "num_pixels = X_train.shape[1] * X_train.shape[2]\n",
    "X_train = X_train.reshape(X_train.shape[0], num_pixels).astype('float32')\n",
    "X_test = X_test.reshape(X_test.shape[0], num_pixels).astype('float32')"
   ]
  },
  {
   "cell_type": "markdown",
   "metadata": {},
   "source": [
    "### Normalizing the data for better performance of neural network\n",
    "- Normalization is often performed on data to remove amplitude variation and only focus on the underlying distribution shape. It is thus useful when comparing two data sets (statistical comparison).\n",
    "<img src='MNIST-Matrix-normalized.png'>"
   ]
  },
  {
   "cell_type": "code",
   "execution_count": 8,
   "metadata": {},
   "outputs": [],
   "source": [
    "# normalize inputs from 0-255 to 0-1. This is a standard practice \n",
    "X_train = X_train / 255\n",
    "X_test = X_test / 255"
   ]
  },
  {
   "cell_type": "markdown",
   "metadata": {},
   "source": [
    "### One Hot Encoding\n",
    "One hot encoding is assigning 1 to working feature and 0’s to other idle features. Mathematically this is very easy to understand: \n",
    "[house, car, tooth, car] becomes \n",
    "- [[1,0,0,0],\n",
    "- [0,1,0,1],\n",
    "- [0,0,1,0]]  \n",
    "\n",
    "In data science, this is a VERY powerful method for optimising the algorithm for classification problems"
   ]
  },
  {
   "cell_type": "code",
   "execution_count": 9,
   "metadata": {},
   "outputs": [],
   "source": [
    "# one hot encode outputs. ; \n",
    "#For eg. an output of '9' would be one-hot encoded to [0,0,0,0,0,0,0,0,1]\n",
    "#'8' would be encoded to [0,0,0,0,0,0,0,0,1,0]\n",
    "\n",
    "y_train = np_utils.to_categorical(y_train)\n",
    "y_test = np_utils.to_categorical(y_test)\n",
    "num_classes = y_test.shape[1]"
   ]
  },
  {
   "cell_type": "markdown",
   "metadata": {},
   "source": [
    "## 3. MODELLING\n",
    "\n",
    "This is where we define our Deep Learning Model. It's a small network . But still very powerful.\n",
    "<img src='ourModel.jpeg'>\n",
    "\n",
    "### Brief note on the code below\n",
    "- Start Sequential model\n",
    "##### Input layer to Hidden layer\n",
    "- Add a Dense layer and input the feature vector X=28*28 so that weights are initialized\n",
    "- kernel_initializer initilizes the weights randomly using normal distribution.\n",
    "- Relu is rectified linear activation function, which does not give any output till value is zero, if the output is greater than zero then it passes the value as it it. \n",
    "##### Hidden layer to softmaxed output\n",
    "- Add a Dense layer initialized with normal kernel with softmax activation function\n",
    "- Softmax function is often used in the final layer of a neural network-based classifier. It quashes the outputs to probability of each classificants\n",
    "##### Back propogation and Optimization\n",
    "- We will use categorical_crossentropy for loss calculation and Adam optimiser as back propogation method to minimise losses\n",
    "<img src='softmax.png'>\n"
   ]
  },
  {
   "cell_type": "code",
   "execution_count": 10,
   "metadata": {},
   "outputs": [],
   "source": [
    "# define baseline model\n",
    "def baseline_model():\n",
    "\t# create model\n",
    "\tmodel = Sequential()\n",
    "\tmodel.add(Dense(num_pixels, input_dim=num_pixels, kernel_initializer='normal', activation='relu')) #INPUT LAYER\n",
    "\tmodel.add(Dense(num_classes, kernel_initializer='normal', activation='softmax')) #1st Layer\n",
    "\tmodel.compile(loss='categorical_crossentropy', optimizer='adam', metrics=['accuracy']) #Compile the model\n",
    "\treturn model "
   ]
  },
  {
   "cell_type": "code",
   "execution_count": 11,
   "metadata": {},
   "outputs": [
    {
     "name": "stdout",
     "output_type": "stream",
     "text": [
      "Train on 60000 samples, validate on 10000 samples\n",
      "Epoch 1/10\n",
      " - 28s - loss: 0.2784 - acc: 0.9209 - val_loss: 0.1415 - val_acc: 0.9573\n",
      "Epoch 2/10\n",
      " - 30s - loss: 0.1117 - acc: 0.9674 - val_loss: 0.0923 - val_acc: 0.9708\n",
      "Epoch 3/10\n",
      " - 30s - loss: 0.0718 - acc: 0.9796 - val_loss: 0.0782 - val_acc: 0.9770\n",
      "Epoch 4/10\n",
      " - 26s - loss: 0.0506 - acc: 0.9856 - val_loss: 0.0743 - val_acc: 0.9770\n",
      "Epoch 5/10\n",
      " - 26s - loss: 0.0377 - acc: 0.9892 - val_loss: 0.0685 - val_acc: 0.9789\n",
      "Epoch 6/10\n",
      " - 28s - loss: 0.0270 - acc: 0.9926 - val_loss: 0.0637 - val_acc: 0.9805\n",
      "Epoch 7/10\n",
      " - 25s - loss: 0.0211 - acc: 0.9946 - val_loss: 0.0618 - val_acc: 0.9806\n",
      "Epoch 8/10\n",
      " - 26s - loss: 0.0141 - acc: 0.9968 - val_loss: 0.0635 - val_acc: 0.9796\n",
      "Epoch 9/10\n",
      " - 27s - loss: 0.0110 - acc: 0.9979 - val_loss: 0.0585 - val_acc: 0.9812\n",
      "Epoch 10/10\n",
      " - 27s - loss: 0.0083 - acc: 0.9984 - val_loss: 0.0582 - val_acc: 0.9818\n",
      "Accuracy: 98.18%\n"
     ]
    }
   ],
   "source": [
    "# build the model\n",
    "model = baseline_model() #initialize the model using the fucntion we defined.\n",
    "# Fit the model\n",
    "fit = model.fit(X_train, y_train, validation_data=(X_test, y_test), epochs=10, batch_size=200, verbose=2)\n",
    "# Final evaluation of the model\n",
    "scores = model.evaluate(X_test, y_test, verbose=0)\n",
    "print(\"Accuracy: %.2f%%\" % (scores[1]*100))"
   ]
  },
  {
   "cell_type": "markdown",
   "metadata": {},
   "source": [
    "### Final Evaluation of the Model"
   ]
  },
  {
   "cell_type": "code",
   "execution_count": 12,
   "metadata": {},
   "outputs": [
    {
     "data": {
      "image/png": "[encoded data removed]",
      "text/plain": [
       "<matplotlib.figure.Figure at 0x1a7c066b4e0>"
      ]
     },
     "metadata": {},
     "output_type": "display_data"
    }
   ],
   "source": [
    "plt.plot(fit.history['acc'])\n",
    "plt.plot(fit.history['val_acc'])\n",
    "plt.title('model_accuracy')\n",
    "plt.ylabel('accuracy')\n",
    "plt.xlabel('epoch')\n",
    "plt.legend(['train','test'],loc='upper left')\n",
    "plt.show()"
   ]
  },
  {
   "cell_type": "markdown",
   "metadata": {},
   "source": [
    "## PREDICT\n",
    "\n",
    "Finally let's make some predictions :)"
   ]
  },
  {
   "cell_type": "code",
   "execution_count": 13,
   "metadata": {},
   "outputs": [
    {
     "data": {
      "image/png": "[encoded data removed]",
      "text/plain": [
       "<matplotlib.figure.Figure at 0x1a7bed21c88>"
      ]
     },
     "metadata": {},
     "output_type": "display_data"
    }
   ],
   "source": [
    "# Let's predict what is the first image of the test set\n",
    "(X_train, y_train), (X_test, y_test) = mnist.load_data()\n",
    "plt.imshow(X_test[0], cmap=plt.get_cmap('gray'))\n",
    "plt.show()"
   ]
  },
  {
   "cell_type": "code",
   "execution_count": 14,
   "metadata": {},
   "outputs": [
    {
     "data": {
      "text/plain": [
       "7"
      ]
     },
     "execution_count": 14,
     "metadata": {},
     "output_type": "execute_result"
    }
   ],
   "source": [
    "numpy.argmax(model.predict(X_test[0].reshape(1,784)))"
   ]
  },
  {
   "cell_type": "markdown",
   "metadata": {
    "collapsed": true
   },
   "source": [
    "Reference: \n",
    "1. https://sites.google.com/site/nttrungmtwiki/home/it/data-science---python\n",
    "2. https://en.wikipedia.org/wiki/Softmax_function\n",
    "3. http://machinelearningmastery.com/why-one-hot-encode-data-in-machine-learning/ \n",
    "4. https://keras.io\n",
    "5. https://stackoverflow.com/questions/37428100/confusion-between-binary-crossentropy-and-categorical-crossentropy \n",
    "6. https://www.quora.com/Machine-Learning-When-should-I-apply-data-normalization-standardization"
   ]
  },
  {
   "cell_type": "code",
   "execution_count": null,
   "metadata": {},
   "outputs": [],
   "source": []
  }
 ],
 "metadata": {
  "anaconda-cloud": {},
  "celltoolbar": "Raw Cell Format",
  "kernelspec": {
   "display_name": "Python 3",
   "language": "python",
   "name": "python3"
  },
  "language_info": {
   "codemirror_mode": {
    "name": "ipython",
    "version": 3
   },
   "file_extension": ".py",
   "mimetype": "text/x-python",
   "name": "python",
   "nbconvert_exporter": "python",
   "pygments_lexer": "ipython3",
   "version": "3.6.4"
  }
 },
 "nbformat": 4,
 "nbformat_minor": 2
}
