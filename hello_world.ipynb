{
 "cells": [
  {
   "cell_type": "code",
   "execution_count": null,
   "metadata": {},
   "outputs": [],
   "source": [
    "print('hello world')"
   ]
  },
  {
   "cell_type": "code",
   "execution_count": null,
   "metadata": {},
   "outputs": [],
   "source": [
    "i = 1\n",
    "if i==1:\n",
    "    print('hellow world')"
   ]
  },
  {
   "cell_type": "code",
   "execution_count": null,
   "metadata": {},
   "outputs": [],
   "source": [
    "a=True\n",
    "print(a)\n",
    "print(type(a))"
   ]
  },
  {
   "cell_type": "code",
   "execution_count": null,
   "metadata": {},
   "outputs": [],
   "source": [
    "a=21\n",
    "b=-a\n",
    "print(b)"
   ]
  },
  {
   "cell_type": "code",
   "execution_count": null,
   "metadata": {},
   "outputs": [],
   "source": [
    "#Strings\n",
    "a='Hellow World'\n",
    "print(a)\n",
    "print(a[0])\n",
    "print(a[2:5])\n",
    "print(a[2:])\n",
    "print(a*2)\n",
    "print(a+'TEST')"
   ]
  },
  {
   "cell_type": "code",
   "execution_count": null,
   "metadata": {},
   "outputs": [],
   "source": [
    "#lists\n",
    "listData=['orange',True,5,'banana',['satish','parida']]\n",
    "\n",
    "print(len(listData))\n",
    "print(listData.count('orange'))\n",
    "print(listData.index('banana'))\n",
    "listData.append('grape')\n",
    "print(listData)\n",
    "print(listData.pop())\n",
    "print(listData)\n",
    "print(listData[:2])\n",
    "print(len(listData[4]))"
   ]
  },
  {
   "cell_type": "code",
   "execution_count": null,
   "metadata": {},
   "outputs": [],
   "source": [
    "#tuples\n",
    "touple1=('abcd',786,2.23,'john',70.2)\n",
    "touple2=(123,'john')\n",
    "\n",
    "print(touple1)\n",
    "print(touple1[0])\n",
    "print(touple1[1:3])\n",
    "print(touple1[2:])\n",
    "print(touple2*2)\n",
    "print(touple1+touple2)\n",
    "\n",
    "list1=list(touple1+touple2)\n",
    "print(list1)\n",
    "list1.pop()\n",
    "print(list1)\n",
    "\n",
    "t1=tuple(list1)\n",
    "print(t1)"
   ]
  },
  {
   "cell_type": "code",
   "execution_count": null,
   "metadata": {},
   "outputs": [],
   "source": [
    "#sets\n",
    "A={1,2,3,4,5,6,7,7,8}\n",
    "B={7,8,8,9}\n",
    "print(A)\n",
    "print(B)\n",
    "print(A|B)\n",
    "print(A&B)\n",
    "print(A-B)\n",
    "print(B-A)\n",
    "print(A^B)\n",
    "a=set('abcdabcd')\n",
    "b=set('abxy')\n",
    "print(a)\n",
    "print(type(a))\n",
    "\n",
    "list1=[1,2,3,4,5,'set']\n",
    "s=set(list1)\n",
    "print(s)\n",
    "\n",
    "list2=[1,[2,3],4,[5,'set']]   \n",
    "#s1=set(list2)                       #does not work when we have list in a list and try to convert it to set\n",
    "#print(s1)\n",
    "\n",
    "\n",
    "normal_set = set([\"a\", \"b\",\"c\"])\n",
    "normal_set.add(\"d\")\n",
    "print(normal_set)\n",
    "\n",
    "\n",
    "frozen_set = frozenset([\"e\", \"f\", \"g\"])\n",
    "print(frozen_set)\n",
    "#frozen_set.add(\"h\")  #can not be done"
   ]
  },
  {
   "cell_type": "code",
   "execution_count": null,
   "metadata": {},
   "outputs": [],
   "source": [
    "#dictionary\n",
    "my_dict={(1,'puri'):('752012','6704'),(2,'Mumbai'):('400001','022')}\n",
    "print(my_dict)           #TODO: Try yourself"
   ]
  },
  {
   "cell_type": "code",
   "execution_count": null,
   "metadata": {},
   "outputs": [],
   "source": [
    "x=list(range(0,100,20))   #range Function\n",
    "print(x)"
   ]
  },
  {
   "cell_type": "code",
   "execution_count": null,
   "metadata": {},
   "outputs": [],
   "source": [
    "#matrix\n",
    "n=3\n",
    "m=4\n",
    "a=[0]*n             #declared list length in advance\n",
    "for i in range(n):\n",
    "    a[i]=[0]*m      #muliplying [0] to number m to get number of replications, we can use .append to add list members if lenghth not declared\n",
    "print(a)"
   ]
  },
  {
   "cell_type": "code",
   "execution_count": null,
   "metadata": {},
   "outputs": [],
   "source": [
    "#conditional statement\n",
    "a=10\n",
    "\n",
    "if a<10:\n",
    "    print('A is less than 10')\n",
    "elif a==10:\n",
    "    print('A is equal to 10')\n",
    "else:\n",
    "    print('A is greater than 10')"
   ]
  },
  {
   "cell_type": "code",
   "execution_count": null,
   "metadata": {},
   "outputs": [],
   "source": [
    "#for loop\n",
    "a='hello'\n",
    "for i in a:\n",
    "    print(i)"
   ]
  },
  {
   "cell_type": "code",
   "execution_count": null,
   "metadata": {},
   "outputs": [],
   "source": [
    "#while loop\n",
    "a=5\n",
    "add=0\n",
    "while a>0:\n",
    "    add = add+a\n",
    "    a=a-1\n",
    "print(a)\n",
    "print(add)"
   ]
  },
  {
   "cell_type": "code",
   "execution_count": null,
   "metadata": {},
   "outputs": [],
   "source": [
    "#break\n",
    "a=\"String\"\n",
    "for i in a:\n",
    "    if i=='i':\n",
    "        break\n",
    "    print(i)"
   ]
  },
  {
   "cell_type": "code",
   "execution_count": null,
   "metadata": {},
   "outputs": [],
   "source": [
    "#continue\n",
    "a=\"String\"\n",
    "for i in a:\n",
    "    if i=='i':\n",
    "        continue\n",
    "    print(i)"
   ]
  },
  {
   "cell_type": "code",
   "execution_count": null,
   "metadata": {},
   "outputs": [],
   "source": [
    "for item in [1,20,40,60][:3]:\n",
    "    print(item)"
   ]
  },
  {
   "cell_type": "code",
   "execution_count": null,
   "metadata": {},
   "outputs": [],
   "source": [
    "import time\n",
    "import datetime\n",
    "\n",
    "print(\"time in seconds since the epoch: %s\" %time.time())                            #check why % used\n",
    "print(\"current date and time:\",datetime.datetime.now())\n",
    "print(\"or like this: \",datetime.datetime.now().strftime(\"%y-%m-%d %H:%M:%S\"))\n",
    "print(\"or like this: \",datetime.datetime.now().strftime(\"%Y-%m-%d %H:%M:%S\"))\n",
    "\n",
    "print(\"Current year: \",datetime.datetime.today().strftime(\"%Y\"))\n",
    "print(\"Weekday of the week: \",datetime.datetime.today().strftime(\"%w\"))\n",
    "print(\"Day of week: \",datetime.datetime.today().strftime(\"%A\"))\n",
    "print(\"Day of year: \",datetime.datetime.today().strftime(\"%j\"))"
   ]
  },
  {
   "cell_type": "code",
   "execution_count": null,
   "metadata": {},
   "outputs": [],
   "source": [
    "#tuple unpacking\n",
    "touple1=('abcd',786,2.23,'john',70.2)\n",
    "a,b,c,d,e = touple1\n",
    "print(a)\n",
    "print(b)\n",
    "print(c)\n",
    "print(d)\n",
    "print(e)"
   ]
  },
  {
   "cell_type": "code",
   "execution_count": null,
   "metadata": {},
   "outputs": [],
   "source": [
    "#list comprehension\n",
    "h_letters=[letter for letter in 'human']\n",
    "print(h_letters)\n",
    "\n",
    "#see Matrix Transpose\n",
    "matrix=[[1,2],[3,4],[5,6],[7,8]]\n",
    "print(matrix)\n",
    "transpose=[[row[i] for row in matrix] for i in range(2)] #range 2 as we have 2 coulmns in matrix\n",
    "print(transpose)\n",
    "\n",
    "#check out nested list comprehension\n",
    "\n",
    "y=[[x,y] for x in range(5) for y in range(x+1)]\n",
    "print(y)\n",
    "\n",
    "\n",
    "\n",
    "\n",
    "scores_p={'Reuven':[300, 250, 350, 400],  \n",
    "        'Atara':[200, 300, 450, 150],  \n",
    "        'Shikma':[250, 380, 420, 120],  \n",
    "        'Amotz':[100, 120, 150, 180] }\n",
    "def average(scores):  \n",
    "    return sum(scores) / len(scores)\n",
    "{ name : average(score)  for name, score in scores_p.items() }   #average of each player\n",
    "average([ one_score  \n",
    "              for one_player_scores in scores.values()  \n",
    "              for one_score in one_player_scores ])         #average of all players"
   ]
  },
  {
   "cell_type": "code",
   "execution_count": null,
   "metadata": {},
   "outputs": [],
   "source": [
    "#function\n",
    "def add_sybtract(a,b):\n",
    "    add=a+b\n",
    "    subtract=a-b;\n",
    "    return add,subtract\n",
    "print(add_sybtract(2,3))       #the output looks like touple but it is not, you can try type function to check\n",
    "x,y=add_sybtract(2,3)\n",
    "print(x)\n",
    "print(y)"
   ]
  },
  {
   "cell_type": "code",
   "execution_count": 48,
   "metadata": {},
   "outputs": [
    {
     "name": "stdout",
     "output_type": "stream",
     "text": [
      "4\n",
      "[1, 1, 3, 5, 13, 21, 55]\n",
      "[0, 1, 1, 0, 1, 1, 0, 1, 1, 0, 1]\n"
     ]
    }
   ],
   "source": [
    "#lambda function\n",
    "add=lambda a, b : a+b;\n",
    "print(add(1,3))\n",
    "\n",
    "#TODO: Read more examples and implemetations\n",
    "#use of lambda in list comprehension\n",
    "# CHECK list comprehension FUNCTIONS LIKE MAP\n",
    "\n",
    "fib = [0,1,1,2,3,5,8,13,21,34,55]\n",
    "result = list(filter(lambda x: x % 2 , fib))\n",
    "print(result)\n",
    "result = list(map(lambda x: x % 2 , fib))\n",
    "print(result)"
   ]
  },
  {
   "cell_type": "code",
   "execution_count": null,
   "metadata": {},
   "outputs": [],
   "source": [
    "#question1\n",
    "def square_area(side):\n",
    "    return side*side\n",
    "print(square_area(4))"
   ]
  },
  {
   "cell_type": "code",
   "execution_count": null,
   "metadata": {},
   "outputs": [],
   "source": [
    "#question2\n",
    "def miles_2_km(miles):\n",
    "    return miles*1.60934\n",
    "print(miles_2_km(2))"
   ]
  },
  {
   "cell_type": "code",
   "execution_count": null,
   "metadata": {},
   "outputs": [],
   "source": [
    "#question3\n",
    "def conversion(conversion_char,value):\n",
    "    if conversion_char=='M2K':\n",
    "        return value*1.60934\n",
    "    elif conversion_char=='K2M':\n",
    "        return value*0.625\n",
    "    else:\n",
    "        print(\"Invalid input conversion_char\")\n",
    "\n",
    "print(conversion('K2M',2))\n",
    "print(conversion('M2K',2))\n",
    "print(conversion('MK',2))"
   ]
  },
  {
   "cell_type": "code",
   "execution_count": null,
   "metadata": {},
   "outputs": [],
   "source": [
    "#question3\n",
    "def joinsen(f_name,l_name):\n",
    "    str= f_name+' '+l_name\n",
    "    return str.title()                     #string is an object capitalize can be used to captal letter first letter of input\n",
    "print(joinsen('satish','parida'))"
   ]
  },
  {
   "cell_type": "code",
   "execution_count": null,
   "metadata": {
    "scrolled": false
   },
   "outputs": [],
   "source": [
    "#question4\n",
    "def fibonacci(n):\n",
    "    if(n <= 1):\n",
    "        return n\n",
    "    else:\n",
    "        return fibonacci(n-1) + fibonacci(n-2)                         #used recursion\n",
    "mylist=[]\n",
    "n = int(input(\"Enter number of terms:\"))                                #used user input from cmd prompt\n",
    "print(\"Fibonacci sequence:\")\n",
    "for i in range(n):\n",
    "    mylist.append(fibonacci(i))\n",
    "print(mylist)"
   ]
  },
  {
   "cell_type": "code",
   "execution_count": null,
   "metadata": {},
   "outputs": [],
   "source": [
    "#question5\n",
    "def calculator_(oprand1,operator,oprand2):\n",
    "    try:\n",
    "        if operator == '+':\n",
    "            return oprand1+oprand2\n",
    "        elif operator == '-':\n",
    "            return oprand1-oprand2\n",
    "        elif operator == '*':\n",
    "            return oprand1*oprand2\n",
    "        elif operator == '/':\n",
    "            return oprand1/oprand2\n",
    "    except ZeroDivisionError as exp:\n",
    "        print(\"ZeroDivisionError -- \",exp)\n",
    "        print(\"Enter Valid Number;by the way value is: \")\n",
    "        return 'infinight'\n",
    "\n",
    "print(calculator_(1,'+',0))\n",
    "print(calculator_(1,'-',0))\n",
    "print(calculator_(1,'*',0))\n",
    "print(calculator_(1,'/',0))"
   ]
  },
  {
   "cell_type": "code",
   "execution_count": 6,
   "metadata": {},
   "outputs": [
    {
     "name": "stdout",
     "output_type": "stream",
     "text": [
      "Write Done\n",
      "Append Done\n"
     ]
    }
   ],
   "source": [
    "a_file_r=open('data.txt')\n",
    "x=a_file_r.read()\n",
    "\n",
    "#mode w for over write and mode a for append, these modes will create the file if file does not exist\n",
    "with open('test.log',mode='w') as a_file:\n",
    "    a_file.write(x)\n",
    "    print(\"Write Done\")\n",
    "with open('test.log',mode='a') as a_file:\n",
    "    a_file.write(x)\n",
    "    print(\"Append Done\")\n",
    "\n",
    "a_file_r.close()"
   ]
  },
  {
   "cell_type": "code",
   "execution_count": 35,
   "metadata": {
    "scrolled": true
   },
   "outputs": [
    {
     "name": "stdout",
     "output_type": "stream",
     "text": [
      "[0, 1, 4, 9, 16, 25, 36, 49, 64, 81]\n",
      "[1, 7, 19, 19, 16, 14, 3, 10, 10, 12]\n",
      "[9, 12, 15]\n",
      "['t', 'a', 'l', 'o', 'w']\n",
      "['1', '2', '3', '4', '5']\n",
      "[0, 2, 4, 6, 8]\n",
      "[2, 4, 6, 8]\n",
      "[1, 3.5714285714285716, 3.5714285714285716, 2, 4, 5, 3.5714285714285716, 4, 7, 8, 4, 5, 6, 4]\n"
     ]
    }
   ],
   "source": [
    "#Practice\n",
    "x=[i**2 for  i in range(10)]\n",
    "print(x)\n",
    "\n",
    "import random\n",
    "y=[random.randint(1,20) for  i in range(10)]\n",
    "print(y)\n",
    "\n",
    "l1=[3,4,5]\n",
    "l2=[i*3 for i in l1]\n",
    "print(l2)\n",
    "\n",
    "listOfWords=['this','a','list','of','words']\n",
    "firstLetter=[letter[0] for letter in listOfWords]\n",
    "print(firstLetter)\n",
    "\n",
    "string='hello 12345 world'\n",
    "string1=[i for i in string if i.isdigit()]\n",
    "print(string1)\n",
    "\n",
    "even=[i for i in range(10) if i%2==0]\n",
    "print(even)\n",
    "\n",
    "def double(x):\n",
    "    return x*2;\n",
    "l1=[1,2,3,4]\n",
    "l2=[double(i) for i in l1]\n",
    "print(l2)\n",
    "\n",
    "\n",
    "stock=[1,0,0,2,4,5,0,4,7,8,4,5,6,4]\n",
    "def mean(s,i):\n",
    "    if i == 0:\n",
    "        return sum(s)/len(s)\n",
    "    else:\n",
    "        return i\n",
    "l2=[mean(stock,i) for i in stock]\n",
    "print(l2)"
   ]
  },
  {
   "cell_type": "code",
   "execution_count": 82,
   "metadata": {},
   "outputs": [
    {
     "data": {
      "image/png": "[encoded data removed]",
      "text/plain": [
       "<matplotlib.figure.Figure at 0x7f9b4ad81b00>"
      ]
     },
     "metadata": {},
     "output_type": "display_data"
    },
    {
     "data": {
      "image/png": "[encoded data removed]",
      "text/plain": [
       "<matplotlib.figure.Figure at 0x7f9b4ad994a8>"
      ]
     },
     "metadata": {},
     "output_type": "display_data"
    }
   ],
   "source": [
    "import pandas as pd\n",
    "from pylab import *\n",
    "pima = pd.read_csv('pima.csv')\n",
    "pima.head(10)\n",
    "pima.tail(10)\n",
    "pima.count()\n",
    "pima.mean()\n",
    "pima.median()\n",
    "pima.std()\n",
    "pima.var()\n",
    "pima.min()       \n",
    "pima.max()            #max in all varaibles in the pandas datafrem\n",
    "pima.describe()       #descriptive statistics\n",
    "pima[0:2]             #row 0 to 2\n",
    "pima[-3:]             #last 3 rows\n",
    "pima[\"bmi\"]           #coulmn level access\n",
    "type(pima[\"bmi\"])     #pandas.core.series.Series\n",
    "pima.shape            #dimention of table we get\n",
    "pima[pima[\"bmi\"]>30].shape    #seach in a table and get diemension\n",
    "pima[\"bmi\"].hist()\n",
    "show()\n",
    "pima[\"bmi\"].plot(kind=\"kde\")  #kernel density plot or frequency plot, we can use different plots here in kind=\n",
    "show()"
   ]
  },
  {
   "cell_type": "code",
   "execution_count": 109,
   "metadata": {},
   "outputs": [
    {
     "name": "stdout",
     "output_type": "stream",
     "text": [
      "[['buy', 'viagra'], ['buy', 'antibody'], ['hairfall', 'buy', 'batra'], ['batra', 'clinic']]\n",
      "['viagra', 'antibody', 'clinic', 'buy', 'batra', 'hairfall']\n",
      "[('viagra', [1, 0, 0, 0]), ('antibody', [0, 1, 0, 0]), ('clinic', [0, 0, 0, 1]), ('buy', [1, 1, 1, 0]), ('batra', [0, 0, 1, 1]), ('hairfall', [0, 0, 1, 0])]\n"
     ]
    },
    {
     "data": {
      "text/html": [
       "<div>\n",
       "<style>\n",
       "    .dataframe thead tr:only-child th {\n",
       "        text-align: right;\n",
       "    }\n",
       "\n",
       "    .dataframe thead th {\n",
       "        text-align: left;\n",
       "    }\n",
       "\n",
       "    .dataframe tbody tr th {\n",
       "        vertical-align: top;\n",
       "    }\n",
       "</style>\n",
       "<table border=\"1\" class=\"dataframe\">\n",
       "  <thead>\n",
       "    <tr style=\"text-align: right;\">\n",
       "      <th></th>\n",
       "      <th>antibody</th>\n",
       "      <th>batra</th>\n",
       "      <th>buy</th>\n",
       "      <th>clinic</th>\n",
       "      <th>hairfall</th>\n",
       "      <th>viagra</th>\n",
       "    </tr>\n",
       "  </thead>\n",
       "  <tbody>\n",
       "    <tr>\n",
       "      <th>0</th>\n",
       "      <td>0</td>\n",
       "      <td>0</td>\n",
       "      <td>1</td>\n",
       "      <td>0</td>\n",
       "      <td>0</td>\n",
       "      <td>1</td>\n",
       "    </tr>\n",
       "    <tr>\n",
       "      <th>1</th>\n",
       "      <td>1</td>\n",
       "      <td>0</td>\n",
       "      <td>1</td>\n",
       "      <td>0</td>\n",
       "      <td>0</td>\n",
       "      <td>0</td>\n",
       "    </tr>\n",
       "    <tr>\n",
       "      <th>2</th>\n",
       "      <td>0</td>\n",
       "      <td>1</td>\n",
       "      <td>1</td>\n",
       "      <td>0</td>\n",
       "      <td>1</td>\n",
       "      <td>0</td>\n",
       "    </tr>\n",
       "    <tr>\n",
       "      <th>3</th>\n",
       "      <td>0</td>\n",
       "      <td>1</td>\n",
       "      <td>0</td>\n",
       "      <td>1</td>\n",
       "      <td>0</td>\n",
       "      <td>0</td>\n",
       "    </tr>\n",
       "  </tbody>\n",
       "</table>\n",
       "</div>"
      ],
      "text/plain": [
       "   antibody  batra  buy  clinic  hairfall  viagra\n",
       "0         0      0    1       0         0       1\n",
       "1         1      0    1       0         0       0\n",
       "2         0      1    1       0         1       0\n",
       "3         0      1    0       1         0       0"
      ]
     },
     "execution_count": 109,
     "metadata": {},
     "output_type": "execute_result"
    }
   ],
   "source": [
    "#Bag of Words (Spam Filter)\n",
    "import pandas as pd\n",
    "import string\n",
    "spam_corpus=list(map(str.split,[\"buy viagra\",\"buy antibody\",\"hairfall buy batra\",\"batra clinic\"]))\n",
    "print(spam_corpus)\n",
    "unique_words=list(set([word for doc in spam_corpus for word in doc]))\n",
    "print(unique_words)\n",
    "word_count=[(word,list(map(lambda doc:doc.count(word),spam_corpus))) for word in unique_words]\n",
    "print(word_count)\n",
    "spam_bag_of_words=pd.DataFrame(dict(word_count))\n",
    "spam_bag_of_words"
   ]
  },
  {
   "cell_type": "code",
   "execution_count": 108,
   "metadata": {},
   "outputs": [
    {
     "name": "stdout",
     "output_type": "stream",
     "text": [
      "[ 1.  4.  5.  8.]\n",
      "<class 'numpy.ndarray'>\n",
      "[ 1.  4.]\n",
      "8.0\n"
     ]
    },
    {
     "data": {
      "text/plain": [
       "array([ 1.,  4.,  5.,  8.])"
      ]
     },
     "execution_count": 108,
     "metadata": {},
     "output_type": "execute_result"
    }
   ],
   "source": [
    "import numpy as np\n",
    "a=np.array([1,4,5,8],float)\n",
    "print(a)\n",
    "print(type(a))\n",
    "print(a[:2])\n",
    "print(a[3])\n",
    "a"
   ]
  },
  {
   "cell_type": "code",
   "execution_count": 172,
   "metadata": {},
   "outputs": [
    {
     "data": {
      "text/plain": [
       "2.1602468994692869"
      ]
     },
     "execution_count": 172,
     "metadata": {},
     "output_type": "execute_result"
    }
   ],
   "source": [
    "import numpy as np\n",
    "a=np.array([[1,2,3],[4,5,6],[7,8,9]],float)\n",
    "print(a)\n",
    "a[1,:]      #show 2nd row\n",
    "a[:,2]      #show 3rd coulmn\n",
    "a[-1:,-2:]       #try yourself simple list logic\n",
    "a.shape          #dimension of array\n",
    "a.dtype\n",
    "len(a)\n",
    "2 in a\n",
    "0 in a                     #serch in array\n",
    "a=np.array(range(10),float)\n",
    "print(a)\n",
    "a=a.reshape((5,2))\n",
    "b=a.copy()\n",
    "c=b.tolist()               #can be done using list(b)\n",
    "b.fill(0)                  #fill 0 in all cells\n",
    "d=a.reshape((2,5))\n",
    "e=a.transpose()\n",
    "f=a.flatten()\n",
    "\n",
    "a=np.array([1,2],float)\n",
    "b=np.array([7,8,9,0],float)\n",
    "c=np.array([3,4,5,6],float)\n",
    "np.concatenate((a,b,c))\n",
    "\n",
    "\n",
    "#read axis for concatinate\n",
    "\n",
    "\n",
    "a=np.array([1,2,3],float)\n",
    "a[:,np.newaxis]\n",
    "a[:,np.newaxis].shape\n",
    "\n",
    "\n",
    "np.eye(4,k=1,dtype=float) #diagonal matrix\n",
    "\n",
    "#zeros_like ones_like function\n",
    "\n",
    "a=np.array([1,2,3],float)\n",
    "b=np.array([5,2,6],float)\n",
    "a+b\n",
    "a-b\n",
    "a=np.array([[1,2],[3,4],[5,6]],float)\n",
    "b=np.array([[1,2]],float)a*b\n",
    "\n",
    "\n",
    "a=np.array([[1,2],[3,4],[5,6]],float)\n",
    "b=np.array([[1,3,4],[0,-1,5]],float)\n",
    "x=np.matmul(a,b)\n",
    "print(x)\n",
    "a=np.array([[1,2],[3,4],[5,6]],float)\n",
    "b=np.array([[1,2]],float)\n",
    "np.matmul(a,b)                                       #matrix multiplication\n",
    "\n",
    "a=np.array([1,2,3],float)\n",
    "b=a*np.pi*a\n",
    "b\n",
    "\n",
    "a=np.array([[1,2,3],[5,6,7]],float)\n",
    "for i in a:\n",
    "    print(i)\n",
    "    for j in i:\n",
    "        print(j)\n",
    "\n",
    "a=np.array([[1,2,3],[5,6,7]],float)\n",
    "np.mean(a)\n",
    "np.std(a)\n",
    "\n",
    "a=np.array([2,5,4,1,5,8,3,6,4,5],float)\n",
    "np.argmax(a)\n",
    "np.argmin(a) #location of min in the array\n",
    "np.sort()\n",
    "\n",
    "a=np.array([2,5,4,1,5,8,3,6,4,5],float)\n",
    "np.unique(a)\n",
    "np.random.seed(3)\n",
    "d = a * np.random.rand()\n",
    "print(d)\n",
    "np.random.seed(123)\n",
    "e = a * np.random.rand()\n",
    "print(e)"
   ]
  },
  {
   "cell_type": "code",
   "execution_count": 182,
   "metadata": {},
   "outputs": [],
   "source": [
    "#pywinauto - for windows automations"
   ]
  },
  {
   "cell_type": "code",
   "execution_count": 205,
   "metadata": {},
   "outputs": [
    {
     "data": {
      "image/png": "[encoded data removed]",
      "text/plain": [
       "<matplotlib.figure.Figure at 0x7f9b29242eb8>"
      ]
     },
     "metadata": {},
     "output_type": "display_data"
    }
   ],
   "source": [
    "from matplotlib import pyplot as plt\n",
    "plt.plot([1,2,3],[4,5,1])\n",
    "plt.show()"
   ]
  },
  {
   "cell_type": "code",
   "execution_count": 207,
   "metadata": {},
   "outputs": [
    {
     "data": {
      "image/png": "[encoded data removed]",
      "text/plain": [
       "<matplotlib.figure.Figure at 0x7f9b283faef0>"
      ]
     },
     "metadata": {},
     "output_type": "display_data"
    }
   ],
   "source": [
    "from matplotlib import pyplot as plt\n",
    "x=[5,8,10]\n",
    "y=[12,16,6]\n",
    "\n",
    "plt.title('Header')\n",
    "plt.ylabel('Y axis')\n",
    "plt.xlabel('X axis')\n",
    "plt.plot(x,y)\n",
    "plt.show()"
   ]
  },
  {
   "cell_type": "code",
   "execution_count": 214,
   "metadata": {},
   "outputs": [
    {
     "data": {
      "image/png": "[encoded data removed]",
      "text/plain": [
       "<matplotlib.figure.Figure at 0x7f9b254e8f98>"
      ]
     },
     "metadata": {},
     "output_type": "display_data"
    }
   ],
   "source": [
    "from matplotlib import pyplot as plt\n",
    "from matplotlib import style\n",
    "style.use('ggplot')\n",
    "x=[5,8,10]\n",
    "y=[12,16,6]\n",
    "x2=[6,9,11]\n",
    "y2=[6,15,17]\n",
    "\n",
    "plt.plot(x,y,linewidth=5)\n",
    "plt.plot(x2,y2,linewidth=10)\n",
    "\n",
    "plt.title('Header')\n",
    "plt.ylabel('Y axis')\n",
    "plt.xlabel('X axis')\n",
    "\n",
    "plt.show()"
   ]
  },
  {
   "cell_type": "code",
   "execution_count": 213,
   "metadata": {},
   "outputs": [
    {
     "data": {
      "image/png": "[encoded data removed]",
      "text/plain": [
       "<matplotlib.figure.Figure at 0x7f9b2544eb70>"
      ]
     },
     "metadata": {},
     "output_type": "display_data"
    }
   ],
   "source": [
    "from matplotlib import pyplot as plt\n",
    "from matplotlib import style\n",
    "style.use('ggplot')\n",
    "x=[5,8,10]\n",
    "y=[12,16,6]\n",
    "x2=[6,9,11]\n",
    "y2=[6,15,17]\n",
    "\n",
    "plt.bar(x,y,align='center')\n",
    "plt.bar(x2,y2,align='center',color='g')\n",
    "\n",
    "plt.title('Header')\n",
    "plt.ylabel('Y axis')\n",
    "plt.xlabel('X axis')\n",
    "\n",
    "plt.show()\n",
    "\n",
    "#pythonprogramming.net"
   ]
  },
  {
   "cell_type": "code",
   "execution_count": 244,
   "metadata": {},
   "outputs": [
    {
     "name": "stdout",
     "output_type": "stream",
     "text": [
      "<_sre.SRE_Match object; span=(0, 2), match='AV'>\n",
      "AV\n",
      "['Analyt', 'cs V', 'dhya']\n",
      "['Analyt', 'cs Vidhya']\n",
      "The US is the greates country in the world!\n",
      "['India']\n",
      "['India']\n",
      "['@def']\n",
      "['@def.com']\n",
      "['abc']\n"
     ]
    }
   ],
   "source": [
    "#REGULAR EXPRESSIONS\n",
    "import re\n",
    "result=re.match(r'AV','AV Analytics Vidhya AV')                                  #check your self\n",
    "print(result)\n",
    "print(result.group(0))\n",
    "\n",
    "result=re.split(r'i','Analytics Vidhya')\n",
    "print(result)\n",
    "\n",
    "result=re.split(r'i','Analytics Vidhya',maxsplit=1)\n",
    "print(result)\n",
    "\n",
    "result=re.sub(r'India','The US','India is the greates country in the world!')\n",
    "print(result)\n",
    "\n",
    "result=re.findall(r'^\\w+','India is the greates country in the world!')\n",
    "print(result)\n",
    "\n",
    "result=re.findall(r'^India','India is the greates country in the world!')\n",
    "print(result)\n",
    "\n",
    "result=re.findall(r'@\\w+','abc@def.com')\n",
    "print(result)\n",
    "\n",
    "result=re.findall(r'@\\w+.\\w+','abc@def.com')\n",
    "print(result)\n",
    "\n",
    "result=re.findall(r'^\\w+','abc@def.com')\n",
    "print(result)"
   ]
  },
  {
   "cell_type": "code",
   "execution_count": 251,
   "metadata": {},
   "outputs": [
    {
     "name": "stdout",
     "output_type": "stream",
     "text": [
      "100\n",
      "Rama\n",
      "333333.33\n",
      "Documentation to be printed about the class: Satish\n",
      "Employee\n",
      "__main__\n"
     ]
    }
   ],
   "source": [
    "class Employee:\n",
    "    'Documentation to be printed about the class: Satish'\n",
    "    count=0\n",
    "    \n",
    "    def __init__(self,id,name,salary):\n",
    "        self.id=id\n",
    "        self.name=name\n",
    "        self.salary=salary\n",
    "        Employee.count+=1\n",
    "    def displayEmployeeInfo(self):\n",
    "        print(self.id)\n",
    "        print(self.name)\n",
    "        print(self.salary)\n",
    "\n",
    "e1=Employee(100,\"Rama\",333333.33)\n",
    "e1.displayEmployeeInfo()\n",
    "\n",
    "print(Employee.__doc__)\n",
    "print(Employee.__name__)\n",
    "print(Employee.__module__)"
   ]
  },
  {
   "cell_type": "code",
   "execution_count": 257,
   "metadata": {},
   "outputs": [
    {
     "name": "stdout",
     "output_type": "stream",
     "text": [
      "10\n",
      "12\n",
      "19\n",
      "2280\n",
      "11\n",
      "13\n",
      "20\n",
      "red\n",
      "2860\n"
     ]
    }
   ],
   "source": [
    "class Box:\n",
    "    def __init__(self,length,width,hight):\n",
    "        self.length=length\n",
    "        self.width=width\n",
    "        self.hight=hight\n",
    "    def showBoxInfo(self):\n",
    "        print(self.length)\n",
    "        print(self.width)\n",
    "        print(self.hight)\n",
    "    def volume(self):\n",
    "        return self.length*self.width*self.hight\n",
    "class ColorBox(Box):\n",
    "    def __init__(self,length,width,hight,color):\n",
    "        super().__init__(length,width,hight)\n",
    "        self.color=color\n",
    "    def showBoxInfo(self):\n",
    "        super(ColorBox,self).showBoxInfo()\n",
    "        print(self.color)\n",
    "b1=Box(10,12,19)\n",
    "b1.showBoxInfo()\n",
    "print(b1.volume())\n",
    "cb1=ColorBox(11,13,20,'red')\n",
    "cb1.showBoxInfo()\n",
    "print(cb1.volume())"
   ]
  },
  {
   "cell_type": "code",
   "execution_count": null,
   "metadata": {},
   "outputs": [],
   "source": []
  }
 ],
 "metadata": {
  "kernelspec": {
   "display_name": "Python 3",
   "language": "python",
   "name": "python3"
  },
  "language_info": {
   "codemirror_mode": {
    "name": "ipython",
    "version": 3
   },
   "file_extension": ".py",
   "mimetype": "text/x-python",
   "name": "python",
   "nbconvert_exporter": "python",
   "pygments_lexer": "ipython3",
   "version": "3.6.4"
  }
 },
 "nbformat": 4,
 "nbformat_minor": 2
}
