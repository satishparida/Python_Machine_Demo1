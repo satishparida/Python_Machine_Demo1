{
 "cells": [
  {
   "cell_type": "code",
   "execution_count": 4,
   "metadata": {},
   "outputs": [
    {
     "name": "stdout",
     "output_type": "stream",
     "text": [
      "[357] After a landslide win in Indiana on May 3, 2016—which prompted the remaining candidates Cruz and John Kasich to suspend their presidential campaigns— RNC Chairman Reince Priebus declared Trump the presumptive Republican nominee.\n",
      "In 2011, after failed attempts by both Senator McCain and Hillary Clinton, Mr. Trump single handedly forced President Obama to release his birth certificate, which was lauded by large segments of the political community.\n",
      "Trump has been confronted with a slew of allegations of sexual misconduct over the past week, starting with a report in The Washington Post of a 2005 tape featuring him bragging about forcibly kissing women and grabbing them by the genitals.\n",
      "^ Devlin Barrett & Dan Frosch Federal Judge Temporarily Halts Trump Order on Immigration, Refugees: Ruling applies nationwide to tens of thousands , The Wall Street Journal (February 5, 2017).\n"
     ]
    }
   ],
   "source": [
    "from sumy.parsers.html import HtmlParser\n",
    "from sumy.parsers.plaintext import PlaintextParser\n",
    "from sumy.nlp.tokenizers import Tokenizer\n",
    "from sumy.summarizers.lsa import LsaSummarizer as Summarizer\n",
    "from sumy.nlp.stemmers import Stemmer\n",
    "from sumy.utils import get_stop_words\n",
    "\n",
    "\n",
    "LANGUAGE = \"english\"\n",
    "SENTENCES_COUNT = 4\n",
    "\n",
    "\n",
    "\n",
    "url = \"https://en.wikipedia.org/wiki/Donald_Trump\"#\"http://www.bbc.com/news/world-us-canada-42950090\"#\"https://en.wikipedia.org/wiki/Principal_component_analysis\"\n",
    "parser = HtmlParser.from_url(url, Tokenizer(LANGUAGE))\n",
    "# or for plain text files\n",
    "# parser = PlaintextParser.from_file(\"document.txt\", Tokenizer(LANGUAGE))\n",
    "stemmer = Stemmer(LANGUAGE)\n",
    "\n",
    "summarizer = Summarizer(stemmer)\n",
    "summarizer.stop_words = get_stop_words(LANGUAGE)\n",
    "\n",
    "for sentence in summarizer(parser.document, SENTENCES_COUNT):\n",
    "    print(sentence)"
   ]
  },
  {
   "cell_type": "markdown",
   "metadata": {},
   "source": [
    "Reference : https://github.com/icoxfog417/awesome-text-summarization"
   ]
  }
 ],
 "metadata": {
  "kernelspec": {
   "display_name": "Python [conda root]",
   "language": "python",
   "name": "conda-root-py"
  },
  "language_info": {
   "codemirror_mode": {
    "name": "ipython",
    "version": 3
   },
   "file_extension": ".py",
   "mimetype": "text/x-python",
   "name": "python",
   "nbconvert_exporter": "python",
   "pygments_lexer": "ipython3",
   "version": "3.5.2"
  }
 },
 "nbformat": 4,
 "nbformat_minor": 2
}
