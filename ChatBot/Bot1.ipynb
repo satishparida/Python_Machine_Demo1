{
 "cells": [
  {
   "cell_type": "code",
   "execution_count": 7,
   "metadata": {},
   "outputs": [],
   "source": [
    "import pandas as py\n",
    "import numpy as np"
   ]
  },
  {
   "cell_type": "code",
   "execution_count": 8,
   "metadata": {},
   "outputs": [
    {
     "data": {
      "text/plain": [
       "array([['hay', 1, nan],\n",
       "       ['hi', 1, 'hello'],\n",
       "       ['hello', 2, 'hi how are you'],\n",
       "       ['What is ALSC', 3, 'Acenture Life Science'],\n",
       "       [nan, 4, 'Good to know'],\n",
       "       [nan, 4, 'I am not sure what it means'],\n",
       "       ['How to create a defect', 5,\n",
       "        'Open URL: xxx.xxx.xxx and in the top left cornor button create incident'],\n",
       "       ['Create a defect', 5, nan]], dtype=object)"
      ]
     },
     "execution_count": 8,
     "metadata": {},
     "output_type": "execute_result"
    }
   ],
   "source": [
    "s=py.read_excel('Refrandom.xlsx')\n",
    "y=np.array(s)\n",
    "y"
   ]
  },
  {
   "cell_type": "code",
   "execution_count": 9,
   "metadata": {},
   "outputs": [
    {
     "name": "stdout",
     "output_type": "stream",
     "text": [
      "I am not sure what it means\n"
     ]
    }
   ],
   "source": [
    "def input_word(input_word_user):\n",
    "    for i in range (0,y.shape[0]):\n",
    "        find=0\n",
    "        if input_word_user==y[i,0]:\n",
    "            print(y[i,2])\n",
    "            find=1\n",
    "            break\n",
    "    if find<1:\n",
    "        print(y[5,2])\n",
    "    return\n",
    "input_word('yo')"
   ]
  },
  {
   "cell_type": "code",
   "execution_count": null,
   "metadata": {},
   "outputs": [
    {
     "name": "stdout",
     "output_type": "stream",
     "text": [
      "how do i create a defect\n",
      "I am not sure what it means\n",
      "How to create a defect\n",
      "Open URL: xxx.xxx.xxx and in the top left cornor button create incident\n"
     ]
    }
   ],
   "source": [
    "count=1\n",
    "while(0==0):\n",
    "    text1 = input()\n",
    "    input_word(text1)\n",
    "    count=count+1\n",
    "    if count>10:\n",
    "        break"
   ]
  },
  {
   "cell_type": "markdown",
   "metadata": {},
   "source": [
    " "
   ]
  }
 ],
 "metadata": {
  "kernelspec": {
   "display_name": "Python 3",
   "language": "python",
   "name": "python3"
  },
  "language_info": {
   "codemirror_mode": {
    "name": "ipython",
    "version": 3
   },
   "file_extension": ".py",
   "mimetype": "text/x-python",
   "name": "python",
   "nbconvert_exporter": "python",
   "pygments_lexer": "ipython3",
   "version": "3.6.4"
  }
 },
 "nbformat": 4,
 "nbformat_minor": 2
}
